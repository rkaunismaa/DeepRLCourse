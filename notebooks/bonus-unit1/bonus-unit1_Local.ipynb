{
 "cells": [
  {
   "cell_type": "markdown",
   "metadata": {},
   "source": [
    "Saturday, March 4, 2023\n",
    "\n",
    "docker container start relaxed_satoshi\n",
    "\n",
    "Fuck this shit. I can't get this going!"
   ]
  },
  {
   "cell_type": "markdown",
   "metadata": {
    "colab_type": "text",
    "id": "view-in-github"
   },
   "source": [
    "<a href=\"https://colab.research.google.com/github/rkaunismaa/DeepRLCourse/blob/main/notebooks/bonus-unit1/bonus-unit1.ipynb\" target=\"_parent\"><img src=\"https://colab.research.google.com/assets/colab-badge.svg\" alt=\"Open In Colab\"/></a>"
   ]
  },
  {
   "cell_type": "markdown",
   "metadata": {
    "id": "kEssxjhrQaCQ"
   },
   "source": [
    "Tuesday, February 28, 2023"
   ]
  },
  {
   "cell_type": "markdown",
   "metadata": {
    "id": "2D3NL_e4crQv"
   },
   "source": [
    "# Bonus Unit 1: Let's train Huggy the Dog 🐶 to fetch a stick"
   ]
  },
  {
   "cell_type": "markdown",
   "metadata": {
    "id": "FMYrDriDujzX"
   },
   "source": [
    "<img src=\"https://huggingface.co/datasets/huggingface-deep-rl-course/course-images/resolve/main/en/unit2/thumbnail.png\" alt=\"Bonus Unit 1Thumbnail\">\n",
    "\n",
    "In this notebook, we'll reinforce what we learned in the first Unit by **teaching Huggy the Dog to fetch the stick and then play with it directly in your browser**\n",
    "\n",
    "⬇️ Here is an example of what **you will achieve at the end of the unit.** ⬇️ (launch ▶ to see)"
   ]
  },
  {
   "cell_type": "code",
   "execution_count": 1,
   "metadata": {
    "id": "PnVhs1yYNyUF",
    "tags": []
   },
   "outputs": [
    {
     "data": {
      "text/html": [
       "<video controls autoplay><source src=\"https://huggingface.co/datasets/huggingface-deep-rl-course/course-images/resolve/main/en/notebooks/unit-bonus1/huggy.mp4\" type=\"video/mp4\"></video>\n"
      ],
      "text/plain": [
       "<IPython.core.display.HTML object>"
      ]
     },
     "metadata": {},
     "output_type": "display_data"
    }
   ],
   "source": [
    "%%html\n",
    "<video controls autoplay><source src=\"https://huggingface.co/datasets/huggingface-deep-rl-course/course-images/resolve/main/en/notebooks/unit-bonus1/huggy.mp4\" type=\"video/mp4\"></video>"
   ]
  },
  {
   "cell_type": "markdown",
   "metadata": {
    "id": "x7oR6R-ZIbeS"
   },
   "source": [
    "### The environment 🎮\n",
    "\n",
    "- Huggy the Dog, an environment created by [Thomas Simonini](https://twitter.com/ThomasSimonini) based on [Puppo The Corgi](https://blog.unity.com/technology/puppo-the-corgi-cuteness-overload-with-the-unity-ml-agents-toolkit)\n",
    "\n",
    "### The library used 📚\n",
    "\n",
    "- [MLAgents (Hugging Face version)](https://github.com/huggingface/ml-agents)"
   ]
  },
  {
   "cell_type": "markdown",
   "metadata": {
    "id": "60yACvZwO0Cy"
   },
   "source": [
    "We're constantly trying to improve our tutorials, so **if you find some issues in this notebook**, please [open an issue on the Github Repo](https://github.com/huggingface/deep-rl-class/issues)."
   ]
  },
  {
   "cell_type": "markdown",
   "metadata": {
    "id": "Oks-ETYdO2Dc"
   },
   "source": [
    "## Objectives of this notebook 🏆\n",
    "\n",
    "At the end of the notebook, you will:\n",
    "\n",
    "- Understand **the state space, action space and reward function used to train Huggy**.\n",
    "- **Train your own Huggy** to fetch the stick.\n",
    "- Be able to play **with your trained Huggy directly in your browser**.\n",
    "\n",
    "\n"
   ]
  },
  {
   "cell_type": "markdown",
   "metadata": {
    "id": "mUlVrqnBv2o1"
   },
   "source": [
    "## This notebook is from Deep Reinforcement Learning Course\n",
    "<img src=\"https://huggingface.co/datasets/huggingface-deep-rl-course/course-images/resolve/main/en/notebooks/deep-rl-course-illustration.jpg\" alt=\"Deep RL Course illustration\"/>"
   ]
  },
  {
   "cell_type": "markdown",
   "metadata": {
    "id": "pAMjaQpHwB_s"
   },
   "source": [
    "In this free course, you will:\n",
    "\n",
    "- 📖 Study Deep Reinforcement Learning in **theory and practice**.\n",
    "- 🧑‍💻 Learn to **use famous Deep RL libraries** such as Stable Baselines3, RL Baselines3 Zoo, CleanRL and Sample Factory 2.0.\n",
    "- 🤖 Train **agents in unique environments** \n",
    "\n",
    "And more check 📚 the syllabus 👉 https://simoninithomas.github.io/deep-rl-course\n",
    "\n",
    "Don’t forget to **<a href=\"http://eepurl.com/ic5ZUD\">sign up to the course</a>** (we are collecting your email to be able to **send you the links when each Unit is published and give you information about the challenges and updates).**\n",
    "\n",
    "\n",
    "The best way to keep in touch is to join our discord server to exchange with the community and with us 👉🏻 https://discord.gg/ydHrjt3WP5"
   ]
  },
  {
   "cell_type": "markdown",
   "metadata": {
    "id": "6r7Hl0uywFSO"
   },
   "source": [
    "## Prerequisites 🏗️\n",
    "\n",
    "Before diving into the notebook, you need to:\n",
    "\n",
    "🔲 📚 **Develop an understanding of the foundations of Reinforcement learning** (MC, TD, Rewards hypothesis...) by doing Unit 1\n",
    "\n",
    "🔲 📚 **Read the introduction to Huggy** by doing Bonus Unit 1"
   ]
  },
  {
   "cell_type": "markdown",
   "metadata": {
    "id": "DssdIjk_8vZE"
   },
   "source": [
    "## Set the GPU 💪\n",
    "- To **accelerate the agent's training, we'll use a GPU**. To do that, go to `Runtime > Change Runtime type`\n",
    "\n",
    "<img src=\"https://huggingface.co/datasets/huggingface-deep-rl-course/course-images/resolve/main/en/notebooks/gpu-step1.jpg\" alt=\"GPU Step 1\">"
   ]
  },
  {
   "cell_type": "markdown",
   "metadata": {
    "id": "sTfCXHy68xBv"
   },
   "source": [
    "- `Hardware Accelerator > GPU`\n",
    "\n",
    "<img src=\"https://huggingface.co/datasets/huggingface-deep-rl-course/course-images/resolve/main/en/notebooks/gpu-step2.jpg\" alt=\"GPU Step 2\">"
   ]
  },
  {
   "cell_type": "markdown",
   "metadata": {
    "id": "an3ByrXYQ4iK"
   },
   "source": [
    "## Clone the repository and install the dependencies 🔽\n",
    "\n",
    "- We need to clone the repository, that **contains the experimental version of the library that allows you to push your trained agent to the Hub.**"
   ]
  },
  {
   "cell_type": "code",
   "execution_count": 2,
   "metadata": {
    "id": "6WNoL04M7rTa",
    "tags": []
   },
   "outputs": [],
   "source": [
    "# %%capture\n",
    "# # Clone this specific repository (can take 3min)\n",
    "# !git clone https://github.com/huggingface/ml-agents/"
   ]
  },
  {
   "cell_type": "code",
   "execution_count": 3,
   "metadata": {
    "id": "d8wmVcMk7xKo",
    "tags": []
   },
   "outputs": [],
   "source": [
    "# %%capture\n",
    "# # Go inside the repository and install the package (can take 3min)\n",
    "# %cd ml-agents\n",
    "# !pip3 install -e ./ml-agents-envs\n",
    "# !pip3 install -e ./ml-agents"
   ]
  },
  {
   "cell_type": "code",
   "execution_count": 8,
   "metadata": {
    "tags": []
   },
   "outputs": [
    {
     "name": "stdout",
     "output_type": "stream",
     "text": [
      "Obtaining file:///tf/All/Data/Documents/Github/rkaunismaa/DeepRLCourse/notebooks/bonus-unit1/ml-agents/ml-agents-envs\n",
      "  Preparing metadata (setup.py) ... \u001b[?25ldone\n",
      "\u001b[?25hRequirement already satisfied: cloudpickle in /opt/conda/lib/python3.10/site-packages (from mlagents-envs==0.29.0.dev0) (2.2.1)\n",
      "Requirement already satisfied: grpcio>=1.11.0 in /opt/conda/lib/python3.10/site-packages (from mlagents-envs==0.29.0.dev0) (1.51.3)\n",
      "Requirement already satisfied: numpy>=1.14.1 in /opt/conda/lib/python3.10/site-packages (from mlagents-envs==0.29.0.dev0) (1.22.3)\n",
      "Requirement already satisfied: Pillow>=4.2.1 in /opt/conda/lib/python3.10/site-packages (from mlagents-envs==0.29.0.dev0) (9.3.0)\n",
      "Requirement already satisfied: protobuf>=3.6 in /opt/conda/lib/python3.10/site-packages (from mlagents-envs==0.29.0.dev0) (3.20.2)\n",
      "Requirement already satisfied: pyyaml>=3.1.0 in /opt/conda/lib/python3.10/site-packages/PyYAML-6.0-py3.10-linux-x86_64.egg (from mlagents-envs==0.29.0.dev0) (6.0)\n",
      "Installing collected packages: mlagents-envs\n",
      "  Attempting uninstall: mlagents-envs\n",
      "    Found existing installation: mlagents-envs 0.29.0.dev0\n",
      "    Uninstalling mlagents-envs-0.29.0.dev0:\n",
      "      Successfully uninstalled mlagents-envs-0.29.0.dev0\n",
      "  Running setup.py develop for mlagents-envs\n",
      "Successfully installed mlagents-envs-0.29.0.dev0\n",
      "\u001b[33mWARNING: Running pip as the 'root' user can result in broken permissions and conflicting behaviour with the system package manager. It is recommended to use a virtual environment instead: https://pip.pypa.io/warnings/venv\u001b[0m\u001b[33m\n",
      "\u001b[0m"
     ]
    }
   ],
   "source": [
    "#!pip3 install -e ./ml-agents/ml-agents-envs"
   ]
  },
  {
   "cell_type": "code",
   "execution_count": 9,
   "metadata": {
    "tags": []
   },
   "outputs": [
    {
     "name": "stdout",
     "output_type": "stream",
     "text": [
      "Obtaining file:///tf/All/Data/Documents/Github/rkaunismaa/DeepRLCourse/notebooks/bonus-unit1/ml-agents/ml-agents\n",
      "  Preparing metadata (setup.py) ... \u001b[?25ldone\n",
      "\u001b[?25hRequirement already satisfied: grpcio>=1.11.0 in /opt/conda/lib/python3.10/site-packages (from mlagents==0.29.0.dev0) (1.51.3)\n",
      "Collecting h5py>=2.9.0\n",
      "  Using cached h5py-3.8.0-cp310-cp310-manylinux_2_17_x86_64.manylinux2014_x86_64.whl (4.6 MB)\n",
      "Requirement already satisfied: mlagents_envs==0.29.0.dev0 in ./ml-agents/ml-agents-envs (from mlagents==0.29.0.dev0) (0.29.0.dev0)\n",
      "Requirement already satisfied: numpy<2.0,>=1.13.3 in /opt/conda/lib/python3.10/site-packages (from mlagents==0.29.0.dev0) (1.22.3)\n",
      "Requirement already satisfied: Pillow>=4.2.1 in /opt/conda/lib/python3.10/site-packages (from mlagents==0.29.0.dev0) (9.3.0)\n",
      "Requirement already satisfied: protobuf>=3.6 in /opt/conda/lib/python3.10/site-packages (from mlagents==0.29.0.dev0) (3.20.2)\n",
      "Requirement already satisfied: pyyaml>=3.1.0 in /opt/conda/lib/python3.10/site-packages/PyYAML-6.0-py3.10-linux-x86_64.egg (from mlagents==0.29.0.dev0) (6.0)\n",
      "Requirement already satisfied: tensorboard>=1.15 in /opt/conda/lib/python3.10/site-packages (from mlagents==0.29.0.dev0) (2.12.0)\n",
      "Requirement already satisfied: attrs>=19.3.0 in /opt/conda/lib/python3.10/site-packages (from mlagents==0.29.0.dev0) (22.1.0)\n",
      "Requirement already satisfied: huggingface_hub~=0.8 in /opt/conda/lib/python3.10/site-packages (from mlagents==0.29.0.dev0) (0.12.1)\n",
      "\u001b[31mERROR: Could not find a version that satisfies the requirement torch<1.9.0,>=1.8.0 (from mlagents) (from versions: 1.11.0, 1.12.0, 1.12.1, 1.13.0, 1.13.1)\u001b[0m\u001b[31m\n",
      "\u001b[0m\u001b[31mERROR: No matching distribution found for torch<1.9.0,>=1.8.0\u001b[0m\u001b[31m\n",
      "\u001b[0m"
     ]
    }
   ],
   "source": [
    "#!pip3 install -e ./ml-agents/ml-agents"
   ]
  },
  {
   "cell_type": "markdown",
   "metadata": {
    "id": "HRY5ufKUKfhI"
   },
   "source": [
    "## Download and move the environment zip file in `./trained-envs-executables/linux/`\n",
    "\n",
    "- Our environment executable is in a zip file.\n",
    "- We need to download it and place it to `./trained-envs-executables/linux/`"
   ]
  },
  {
   "cell_type": "code",
   "execution_count": 4,
   "metadata": {
    "id": "C9Ls6_6eOKiA",
    "tags": []
   },
   "outputs": [],
   "source": [
    "# !mkdir ./trained-envs-executables\n",
    "# !mkdir ./trained-envs-executables/linux"
   ]
  },
  {
   "cell_type": "code",
   "execution_count": 5,
   "metadata": {
    "id": "EB-G-80GsxYN",
    "tags": []
   },
   "outputs": [
    {
     "name": "stdout",
     "output_type": "stream",
     "text": [
      "/bin/sh: 1: wget: not found\n",
      "/bin/sh: 1: wget: not found\n"
     ]
    }
   ],
   "source": [
    "# !wget --load-cookies /tmp/cookies.txt \"https://docs.google.com/uc?export=download&confirm=$(wget --quiet --save-cookies /tmp/cookies.txt --keep-session-cookies --no-check-certificate 'https://docs.google.com/uc?export=download&id=1zv3M95ZJTWHUVOWT6ckq_cm98nft8gdF' -O- | sed -rn 's/.*confirm=([0-9A-Za-z_]+).*/\\1\\n/p')&id=1zv3M95ZJTWHUVOWT6ckq_cm98nft8gdF\" -O ./trained-envs-executables/linux/Huggy.zip && rm -rf /tmp/cookies.txt"
   ]
  },
  {
   "cell_type": "markdown",
   "metadata": {
    "id": "jsoZGxr1MIXY"
   },
   "source": [
    "Download the file Huggy.zip from https://drive.google.com/uc?export=download&id=1zv3M95ZJTWHUVOWT6ckq_cm98nft8gdF using `wget`. Check out the full solution to download large files from GDrive [here](https://bcrf.biochem.wisc.edu/2021/02/05/download-google-drive-files-using-wget/)"
   ]
  },
  {
   "cell_type": "code",
   "execution_count": null,
   "metadata": {
    "id": "8FPx0an9IAwO"
   },
   "outputs": [],
   "source": [
    "# %%capture\n",
    "# !unzip -d ./trained-envs-executables/linux/ ./trained-envs-executables/linux/Huggy.zip"
   ]
  },
  {
   "cell_type": "markdown",
   "metadata": {
    "id": "nyumV5XfPKzu"
   },
   "source": [
    "Make sure your file is accessible "
   ]
  },
  {
   "cell_type": "code",
   "execution_count": null,
   "metadata": {
    "id": "EdFsLJ11JvQf"
   },
   "outputs": [],
   "source": [
    "#!chmod -R 755 ./trained-envs-executables/linux/Huggy"
   ]
  },
  {
   "cell_type": "markdown",
   "metadata": {
    "id": "dYKVj8yUvj55"
   },
   "source": [
    "## Let's recap how this environment works\n",
    "\n",
    "### The State Space: what Huggy \"perceives.\"\n",
    "\n",
    "Huggy doesn't \"see\" his environment. Instead, we provide him information about the environment:\n",
    "\n",
    "- The target (stick) position\n",
    "- The relative position between himself and the target\n",
    "- The orientation of his legs.\n",
    "\n",
    "Given all this information, Huggy **can decide which action to take next to fulfill his goal**.\n",
    "\n",
    "<img src=\"https://huggingface.co/datasets/huggingface-deep-rl-course/course-images/resolve/main/en/notebooks/unit-bonus1/huggy.jpg\" alt=\"Huggy\" width=\"100%\">\n",
    "\n",
    "\n",
    "### The Action Space: what moves Huggy can do\n",
    "<img src=\"https://huggingface.co/datasets/huggingface-deep-rl-course/course-images/resolve/main/en/notebooks/unit-bonus1/huggy-action.jpg\" alt=\"Huggy action\" width=\"100%\">\n",
    "\n",
    "**Joint motors drive huggy legs**. It means that to get the target, Huggy needs to **learn to rotate the joint motors of each of his legs correctly so he can move**.\n",
    "\n",
    "### The Reward Function\n",
    "\n",
    "The reward function is designed so that **Huggy will fulfill his goal** : fetch the stick.\n",
    "\n",
    "Remember that one of the foundations of Reinforcement Learning is the *reward hypothesis*: a goal can be described as the **maximization of the expected cumulative reward**.\n",
    "\n",
    "Here, our goal is that Huggy **goes towards the stick but without spinning too much**. Hence, our reward function must translate this goal.\n",
    "\n",
    "Our reward function:\n",
    "\n",
    "<img src=\"https://huggingface.co/datasets/huggingface-deep-rl-course/course-images/resolve/main/en/notebooks/unit-bonus1/reward.jpg\" alt=\"Huggy reward function\" width=\"100%\">\n",
    "\n",
    "- *Orientation bonus*: we **reward him for getting close to the target**.\n",
    "- *Time penalty*: a fixed-time penalty given at every action to **force him to get to the stick as fast as possible**.\n",
    "- *Rotation penalty*: we penalize Huggy if **he spins too much and turns too quickly**.\n",
    "- *Getting to the target reward*: we reward Huggy for **reaching the target**."
   ]
  },
  {
   "cell_type": "markdown",
   "metadata": {
    "id": "NAuEq32Mwvtz"
   },
   "source": [
    "## Check the Huggy config file\n",
    "\n",
    "- In ML-Agents, you define the **training hyperparameters into config.yaml files.**\n",
    "\n",
    "- For the scope of this notebook, we're not going to modify the hyperparameters, but if you want to try as an experiment, you should also try to modify some other hyperparameters, Unity provides very [good documentation explaining each of them here](https://github.com/Unity-Technologies/ml-agents/blob/main/docs/Training-Configuration-File.md)."
   ]
  },
  {
   "cell_type": "markdown",
   "metadata": {
    "id": "r9wv5NYGw-05"
   },
   "source": [
    "- **In the case you want to modify the hyperparameters**, in Google Colab notebook, you can click here to open the config.yaml: `/content/ml-agents/config/ppo/Huggy.yaml`\n",
    "\n",
    "- For instance **if you want to save more models during the training** (for now, we save every 200,000 training timesteps). You need to modify:\n",
    "  - `checkpoint_interval`: The number of training timesteps collected between each checkpoint.\n",
    "  - `keep_checkpoints`: The maximum number of model checkpoints to keep. \n",
    "\n",
    "=> Just keep in mind that **decreasing the `checkpoint_interval` means more models to upload to the Hub and so a longer uploading time** \n",
    "We’re now ready to train our agent 🔥."
   ]
  },
  {
   "cell_type": "markdown",
   "metadata": {
    "id": "f9fI555bO12v"
   },
   "source": [
    "## Train our agent\n",
    "\n",
    "To train our agent, we just need to **launch mlagents-learn and select the executable containing the environment.**\n",
    "\n",
    "<img src=\"https://huggingface.co/datasets/huggingface-deep-rl-course/course-images/resolve/main/en/notebooks/unit-bonus1/mllearn.png\" alt=\"ml learn function\" width=\"100%\">\n",
    "\n",
    "With ML Agents, we run a training script. We define four parameters:\n",
    "\n",
    "1. `mlagents-learn <config>`: the path where the hyperparameter config file is.\n",
    "2. `--env`: where the environment executable is.\n",
    "3. `--run_id`: the name you want to give to your training run id.\n",
    "4. `--no-graphics`: to not launch the visualization during the training.\n",
    "\n",
    "Train the model and use the `--resume` flag to continue training in case of interruption. \n",
    "\n",
    "> It will fail first time when you use `--resume`, try running the block again to bypass the error. \n",
    "\n"
   ]
  },
  {
   "cell_type": "markdown",
   "metadata": {
    "id": "lN32oWF8zPjs"
   },
   "source": [
    "The training will take 30 to 45min depending on your machine (don't forget to **set up a GPU**), go take a ☕️you deserve it 🤗."
   ]
  },
  {
   "cell_type": "code",
   "execution_count": 8,
   "metadata": {
    "tags": []
   },
   "outputs": [
    {
     "name": "stdout",
     "output_type": "stream",
     "text": [
      "bonus-unit1.ipynb    bonus-unit1_Local.ipynb  trained-envs-executables\n",
      "bonus-unit1_2.ipynb  ml-agents\n"
     ]
    }
   ],
   "source": [
    "!ls"
   ]
  },
  {
   "cell_type": "code",
   "execution_count": 7,
   "metadata": {
    "tags": []
   },
   "outputs": [],
   "source": [
    "!cd ./ml-agents"
   ]
  },
  {
   "cell_type": "code",
   "execution_count": 10,
   "metadata": {
    "id": "bS-Yh1UdHfzy"
   },
   "outputs": [
    {
     "name": "stdout",
     "output_type": "stream",
     "text": [
      "/bin/sh: 1: ml-agents/mlagents-learn: not found\n"
     ]
    }
   ],
   "source": [
    "!mlagents-learn ./config/ppo/Huggy.yaml --env=./trained-envs-executables/linux/Huggy/Huggy --run-id=\"Huggy\" --no-graphics"
   ]
  },
  {
   "cell_type": "markdown",
   "metadata": {
    "id": "5Vue94AzPy1t"
   },
   "source": [
    "## Push the agent to the 🤗 Hub\n",
    "\n",
    "- Now that we trained our agent, we’re **ready to push it to the Hub to be able to play with Huggy on your browser🔥.**"
   ]
  },
  {
   "cell_type": "markdown",
   "metadata": {
    "id": "izT6FpgNzZ6R"
   },
   "source": [
    "To be able to share your model with the community there are three more steps to follow:\n",
    "\n",
    "1️⃣ (If it's not already done) create an account to HF ➡ https://huggingface.co/join\n",
    "\n",
    "2️⃣ Sign in and then, you need to store your authentication token from the Hugging Face website.\n",
    "- Create a new token (https://huggingface.co/settings/tokens) **with write role**\n",
    "\n",
    "<img src=\"https://huggingface.co/datasets/huggingface-deep-rl-course/course-images/resolve/main/en/notebooks/create-token.jpg\" alt=\"Create HF Token\">\n",
    "\n",
    "- Copy the token \n",
    "- Run the cell below and paste the token"
   ]
  },
  {
   "cell_type": "code",
   "execution_count": null,
   "metadata": {
    "id": "rKt2vsYoK56o"
   },
   "outputs": [],
   "source": [
    "from huggingface_hub import notebook_login\n",
    "notebook_login()"
   ]
  },
  {
   "cell_type": "markdown",
   "metadata": {
    "id": "ew59mK19zjtN"
   },
   "source": [
    "If you don't want to use a Google Colab or a Jupyter Notebook, you need to use this command instead: `huggingface-cli login`"
   ]
  },
  {
   "cell_type": "markdown",
   "metadata": {
    "id": "Xi0y_VASRzJU"
   },
   "source": [
    "Then, we simply need to run `mlagents-push-to-hf`.\n",
    "\n",
    "<img src=\"https://huggingface.co/datasets/huggingface-deep-rl-course/course-images/resolve/main/en/notebooks/unit-bonus1/mlpush.png\" alt=\"ml learn function\" width=\"100%\">"
   ]
  },
  {
   "cell_type": "markdown",
   "metadata": {
    "id": "KK4fPfnczunT"
   },
   "source": [
    "And we define 4 parameters:\n",
    "\n",
    "1. `--run-id`: the name of the training run id.\n",
    "2. `--local-dir`: where the agent was saved, it’s results/<run_id name>, so in my case results/First Training.\n",
    "3. `--repo-id`: the name of the Hugging Face repo you want to create or update. It’s always <your huggingface username>/<the repo name>\n",
    "If the repo does not exist **it will be created automatically**\n",
    "4. `--commit-message`: since HF repos are git repository you need to define a commit message."
   ]
  },
  {
   "cell_type": "code",
   "execution_count": null,
   "metadata": {
    "id": "dGEFAIboLVc6"
   },
   "outputs": [],
   "source": [
    "!mlagents-push-to-hf --run-id=\"HuggyTraining\" --local-dir=\"./results/Huggy\" --repo-id=\"robkayinto/ppo-Huggy\" --commit-message=\"Huggy\""
   ]
  },
  {
   "cell_type": "markdown",
   "metadata": {
    "id": "yborB0850FTM"
   },
   "source": [
    "Else, if everything worked you should have this at the end of the process(but with a different url 😆) :\n",
    "\n",
    "\n",
    "\n",
    "```\n",
    "Your model is pushed to the hub. You can view your model here: https://huggingface.co/ThomasSimonini/ppo-Huggy\n",
    "```\n",
    "\n",
    "It’s the link to your model repository. The repository contains a model card that explains how to use the model, your Tensorboard logs and your config file. **What’s awesome is that it’s a git repository, which means you can have different commits, update your repository with a new push, open Pull Requests, etc.**\n",
    "\n",
    "<img src=\"https://huggingface.co/datasets/huggingface-deep-rl-course/course-images/resolve/main/en/notebooks/unit-bonus1/modelcard.png\" alt=\"ml learn function\" width=\"100%\">"
   ]
  },
  {
   "cell_type": "markdown",
   "metadata": {
    "id": "5Uaon2cg0NrL"
   },
   "source": [
    "But now comes the best: **being able to play with Huggy online 👀.**"
   ]
  },
  {
   "cell_type": "markdown",
   "metadata": {
    "id": "VMc4oOsE0QiZ"
   },
   "source": [
    "## Play with your Huggy 🐕\n",
    "\n",
    "This step is the simplest:\n",
    "\n",
    "- Open the game Huggy in your browser: https://singularite.itch.io/huggy\n",
    "\n",
    "- Click on Play with my Huggy model\n",
    "\n",
    "<img src=\"https://huggingface.co/datasets/huggingface-deep-rl-course/course-images/resolve/main/en/notebooks/unit-bonus1/load-huggy.jpg\" alt=\"load-huggy\" width=\"100%\">"
   ]
  },
  {
   "cell_type": "markdown",
   "metadata": {
    "id": "Djs8c5rR0Z8a"
   },
   "source": [
    "1. In step 1, choose your model repository which is the model id (in my case ThomasSimonini/ppo-Huggy).\n",
    "\n",
    "2. In step 2, **choose what model you want to replay**:\n",
    "  - I have multiple ones, since we saved a model every 500000 timesteps. \n",
    "  - But since I want the more recent, I choose `Huggy.onnx`\n",
    "\n",
    "👉 What’s nice **is to try with different models steps to see the improvement of the agent.**"
   ]
  },
  {
   "cell_type": "markdown",
   "metadata": {
    "id": "PI6dPWmh064H"
   },
   "source": [
    "Congrats on finishing this bonus unit!\n",
    "\n",
    "You can now sit and enjoy playing with your Huggy 🐶. And don't **forget to spread the love by sharing Huggy with your friends 🤗**. And if you share about it on social media, **please tag us @huggingface and me @simoninithomas**\n",
    "\n",
    "<img src=\"https://huggingface.co/datasets/huggingface-deep-rl-course/course-images/resolve/main/en/notebooks/unit-bonus1/huggy-cover.jpeg\" alt=\"Huggy cover\" width=\"100%\">\n",
    "\n",
    "\n",
    "## Keep Learning, Stay  awesome 🤗"
   ]
  }
 ],
 "metadata": {
  "accelerator": "GPU",
  "colab": {
   "include_colab_link": true,
   "private_outputs": true,
   "provenance": []
  },
  "gpuClass": "standard",
  "kernelspec": {
   "display_name": "Python 3 (ipykernel)",
   "language": "python",
   "name": "python3"
  },
  "language_info": {
   "codemirror_mode": {
    "name": "ipython",
    "version": 3
   },
   "file_extension": ".py",
   "mimetype": "text/x-python",
   "name": "python",
   "nbconvert_exporter": "python",
   "pygments_lexer": "ipython3",
   "version": "3.10.8"
  }
 },
 "nbformat": 4,
 "nbformat_minor": 4
}
